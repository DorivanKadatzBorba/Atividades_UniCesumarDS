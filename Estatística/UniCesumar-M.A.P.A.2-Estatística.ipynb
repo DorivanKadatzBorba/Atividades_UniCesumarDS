{
 "cells": [
  {
   "cell_type": "code",
   "execution_count": 187,
   "metadata": {},
   "outputs": [],
   "source": [
    "import pandas as pd\n",
    "import math"
   ]
  },
  {
   "cell_type": "code",
   "execution_count": 4,
   "metadata": {},
   "outputs": [],
   "source": [
    "lista = {'estudantes':[18,20,22,37,35,20,27,27,28,23,\n",
    "47,18,18,24,21,22,24,35,44,32,\n",
    "30,30,24,18,25,37,40,42,33,18,\n",
    "20,22,22,26,26,24,32,32,33,31,\n",
    "25,24,27,29,33,44,18,22,24,22,\n",
    "]}"
   ]
  },
  {
   "cell_type": "code",
   "execution_count": 198,
   "metadata": {},
   "outputs": [
    {
     "name": "stdout",
     "output_type": "stream",
     "text": [
      "Tabela - 1: Frequancia das idades dos estudantes\n"
     ]
    },
    {
     "data": {
      "text/html": [
       "<div>\n",
       "<style scoped>\n",
       "    .dataframe tbody tr th:only-of-type {\n",
       "        vertical-align: middle;\n",
       "    }\n",
       "\n",
       "    .dataframe tbody tr th {\n",
       "        vertical-align: top;\n",
       "    }\n",
       "\n",
       "    .dataframe thead th {\n",
       "        text-align: right;\n",
       "    }\n",
       "</style>\n",
       "<table border=\"1\" class=\"dataframe\">\n",
       "  <thead>\n",
       "    <tr style=\"text-align: right;\">\n",
       "      <th></th>\n",
       "      <th>Idade</th>\n",
       "      <th>Fi</th>\n",
       "      <th>Xi</th>\n",
       "      <th>Xi * Fi</th>\n",
       "      <th>(Xi - media)²</th>\n",
       "    </tr>\n",
       "  </thead>\n",
       "  <tbody>\n",
       "    <tr>\n",
       "      <th>0</th>\n",
       "      <td>18|- 23</td>\n",
       "      <td>16</td>\n",
       "      <td>20.5</td>\n",
       "      <td>328.0</td>\n",
       "      <td>900.00</td>\n",
       "    </tr>\n",
       "    <tr>\n",
       "      <th>1</th>\n",
       "      <td>23|- 28</td>\n",
       "      <td>14</td>\n",
       "      <td>25.5</td>\n",
       "      <td>357.0</td>\n",
       "      <td>87.50</td>\n",
       "    </tr>\n",
       "    <tr>\n",
       "      <th>2</th>\n",
       "      <td>28|- 33</td>\n",
       "      <td>8</td>\n",
       "      <td>30.5</td>\n",
       "      <td>244.0</td>\n",
       "      <td>50.00</td>\n",
       "    </tr>\n",
       "    <tr>\n",
       "      <th>3</th>\n",
       "      <td>33|- 38</td>\n",
       "      <td>7</td>\n",
       "      <td>35.5</td>\n",
       "      <td>248.0</td>\n",
       "      <td>393.75</td>\n",
       "    </tr>\n",
       "    <tr>\n",
       "      <th>4</th>\n",
       "      <td>38|- 43</td>\n",
       "      <td>2</td>\n",
       "      <td>40.5</td>\n",
       "      <td>81.0</td>\n",
       "      <td>312.50</td>\n",
       "    </tr>\n",
       "    <tr>\n",
       "      <th>5</th>\n",
       "      <td>43|- 48</td>\n",
       "      <td>3</td>\n",
       "      <td>45.5</td>\n",
       "      <td>136.0</td>\n",
       "      <td>918.75</td>\n",
       "    </tr>\n",
       "  </tbody>\n",
       "</table>\n",
       "</div>"
      ],
      "text/plain": [
       "     Idade  Fi    Xi  Xi * Fi  (Xi - media)²\n",
       "0  18|- 23  16  20.5    328.0         900.00\n",
       "1  23|- 28  14  25.5    357.0          87.50\n",
       "2  28|- 33   8  30.5    244.0          50.00\n",
       "3  33|- 38   7  35.5    248.0         393.75\n",
       "4  38|- 43   2  40.5     81.0         312.50\n",
       "5  43|- 48   3  45.5    136.0         918.75"
      ]
     },
     "execution_count": 198,
     "metadata": {},
     "output_type": "execute_result"
    }
   ],
   "source": [
    "# contador de frequências \n",
    "a = 0\n",
    "b = 0\n",
    "c = 0\n",
    "d = 0\n",
    "e = 0\n",
    "f = 0\n",
    "for item in lista.estudantes:\n",
    "    if item >= 18 and item < 23:\n",
    "        a += 1  \n",
    "    if item >= 23 and item < 28:\n",
    "        b += 1\n",
    "    if item >= 28 and item < 33:\n",
    "        c += 1\n",
    "    if item >= 33 and item < 38:\n",
    "        d += 1\n",
    "    if item >= 38 and item < 43:\n",
    "        e += 1\n",
    "    if item >= 43 and item < 48:\n",
    "        f += 1\n",
    "# A lista 'g' irá receber os valores das frequências, para que seja possível transformar em DataFrame posteriormente\n",
    "g = [a, b, c, d, e, f]\n",
    "\n",
    "# Primeiramente o DataFrame com a coluna Idade e a frequência das idades\n",
    "df = pd.DataFrame({'Idade':['18|- 23', '23|- 28', '28|- 33','33|- 38', '38|- 43', '43|- 48'], 'Fi':g})\n",
    "\n",
    "# Uma nova coluna criada com a média da classe e nomeada 'Xi'\n",
    "# Como a coluna Idade é Object Type, tive que fazer a equação manualmente\n",
    "df['Xi'] = [(18+23)/2, (23+28)/2, (28+33)/2, (33+38)/2, (38+43)/2, (43+48)/2]\n",
    "\n",
    "# Uma nova coluna criada, a qual multiplica Xi por Fi para nos dar a média de idade posteriormente\n",
    "df['Xi * Fi'] = (df['Xi'] * df['Fi']).round()\n",
    "\n",
    "# Calculo da média das das idades dos estudantes, soma toda a coluna 'Xi * Fi' e divide pela soma da coluna 'Fi'\n",
    "media = df['Xi * Fi'].sum() / df['Fi'].sum()\n",
    "\n",
    "# Uma nova coluna criada, o qual calcula a variância para que possamos saber O desvio padrão posteriormente\n",
    "df['(Xi - media)²'] = ((df['Xi'] - media.round()) ** 2) * df['Fi']\n",
    "\n",
    "# Calculo da variância\n",
    "variancia = df['(Xi - media)²'].sum() / df['Fi'].sum()\n",
    "\n",
    "# Calculo desvio padrão\n",
    "desvio = math.sqrt(variancia)\n",
    "\n",
    "# Temos então nossa tabela com todas as colunas necessárias para a resolução do problema\n",
    "print('Tabela - 1: Frequancia das idades dos estudantes')\n",
    "df\n",
    "\n"
   ]
  },
  {
   "cell_type": "code",
   "execution_count": 199,
   "metadata": {},
   "outputs": [
    {
     "name": "stdout",
     "output_type": "stream",
     "text": [
      "Idade média dos estudantes\n",
      "27.88 ≈ 28.0\n"
     ]
    }
   ],
   "source": [
    "print('Idade média dos estudantes')\n",
    "print(media, '≈', media.round())\n"
   ]
  },
  {
   "cell_type": "code",
   "execution_count": 202,
   "metadata": {},
   "outputs": [
    {
     "name": "stdout",
     "output_type": "stream",
     "text": [
      "Desvio Padrão\n",
      "7.297259759663212 ≈ 7,30\n"
     ]
    }
   ],
   "source": [
    "print('Desvio Padrão')\n",
    "print(desvio, '≈', '7,30')"
   ]
  },
  {
   "cell_type": "code",
   "execution_count": null,
   "metadata": {},
   "outputs": [],
   "source": []
  }
 ],
 "metadata": {
  "kernelspec": {
   "display_name": "Python 3",
   "language": "python",
   "name": "python3"
  },
  "language_info": {
   "codemirror_mode": {
    "name": "ipython",
    "version": 3
   },
   "file_extension": ".py",
   "mimetype": "text/x-python",
   "name": "python",
   "nbconvert_exporter": "python",
   "pygments_lexer": "ipython3",
   "version": "3.8.3"
  }
 },
 "nbformat": 4,
 "nbformat_minor": 4
}
